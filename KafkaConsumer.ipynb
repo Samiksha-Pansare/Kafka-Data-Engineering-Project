{
  "nbformat": 4,
  "nbformat_minor": 0,
  "metadata": {
    "colab": {
      "provenance": []
    },
    "kernelspec": {
      "name": "python3",
      "display_name": "Python 3"
    },
    "language_info": {
      "name": "python"
    }
  },
  "cells": [
    {
      "cell_type": "code",
      "source": [
        "!pip install s3fs"
      ],
      "metadata": {
        "id": "RffH02u64bA2"
      },
      "execution_count": null,
      "outputs": []
    },
    {
      "cell_type": "code",
      "execution_count": 5,
      "metadata": {
        "id": "SLI0-7b14KIr"
      },
      "outputs": [],
      "source": [
        "from kafka import KafkaConsumer\n",
        "from time import sleep\n",
        "from json import dumps,loads\n",
        "import json\n",
        "from s3fs import S3FileSystem"
      ]
    },
    {
      "cell_type": "code",
      "source": [
        "consumer = KafkaConsumer(\n",
        "    'sam_test',\n",
        "     bootstrap_servers=['ip:9092'], #add your IP here\n",
        "    value_deserializer=lambda x: loads(x.decode('utf-8')))"
      ],
      "metadata": {
        "colab": {
          "base_uri": "https://localhost:8080/"
        },
        "id": "iVZGMC6q4VNo",
        "outputId": "54402b46-4bdf-4a6f-ef9a-ba92c3733742"
      },
      "execution_count": 6,
      "outputs": [
        {
          "output_type": "stream",
          "name": "stderr",
          "text": [
            "WARNING:kafka.coordinator.consumer:group_id is None: disabling auto-commit.\n"
          ]
        }
      ]
    },
    {
      "cell_type": "code",
      "source": [
        "for c in consumer:\n",
        "  print(c.value)"
      ],
      "metadata": {
        "id": "aNDpA_u44zHr"
      },
      "execution_count": null,
      "outputs": []
    },
    {
      "cell_type": "code",
      "source": [
        "s3 = S3FileSystem()\n"
      ],
      "metadata": {
        "id": "bgFQjW5b42j-"
      },
      "execution_count": 10,
      "outputs": []
    },
    {
      "cell_type": "code",
      "source": [
        "!pip install boto3 s3fs\n"
      ],
      "metadata": {
        "id": "8RW6bNV4DB76"
      },
      "execution_count": null,
      "outputs": []
    },
    {
      "cell_type": "code",
      "source": [
        "!pip install aws configure\n",
        "\n",
        "!pip install awscli\n",
        "\n",
        "!aws configure"
      ],
      "metadata": {
        "id": "3n_ZlW8OLD04"
      },
      "execution_count": null,
      "outputs": []
    },
    {
      "cell_type": "code",
      "source": [
        "consumer = KafkaConsumer(\n",
        "    'sam_test',\n",
        "     bootstrap_servers=['ip:9092'], #add your IP here\n",
        "    value_deserializer=lambda x: loads(x.decode('utf-8')))"
      ],
      "metadata": {
        "colab": {
          "base_uri": "https://localhost:8080/"
        },
        "id": "oNGpZq4oLx42",
        "outputId": "a006e8e3-288e-434b-d01b-1f0adad2c28c"
      },
      "execution_count": 6,
      "outputs": [
        {
          "output_type": "stream",
          "name": "stderr",
          "text": [
            "WARNING:kafka.coordinator.consumer:group_id is None: disabling auto-commit.\n"
          ]
        }
      ]
    },
    {
      "cell_type": "code",
      "source": [
        "s3 = S3FileSystem()\n"
      ],
      "metadata": {
        "id": "JbcH1hlGMCdu"
      },
      "execution_count": 8,
      "outputs": []
    },
    {
      "cell_type": "code",
      "source": [
        "for count, i in enumerate(consumer):\n",
        "    print(count)\n",
        "    print(i.value)\n",
        "    with s3.open(\"s3://kafka-stock-data-samiksha/stock_market_{}.json\".format(count), 'w') as file:\n",
        "        json.dump(i.value, file)"
      ],
      "metadata": {
        "id": "dVo1ErvxLi6t"
      },
      "execution_count": null,
      "outputs": []
    },
    {
      "cell_type": "code",
      "source": [],
      "metadata": {
        "id": "UwAIlDUXLvzh"
      },
      "execution_count": null,
      "outputs": []
    }
  ]
}